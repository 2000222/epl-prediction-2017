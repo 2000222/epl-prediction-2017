{
 "cells": [
  {
   "cell_type": "code",
   "execution_count": 1,
   "metadata": {
    "collapsed": true
   },
   "outputs": [],
   "source": [
    "import pandas as pd\n",
    "import numpy as np\n",
    "import scipy.stats as scipy\n",
    "import matplotlib.pyplot as plt\n",
    "from __future__ import division\n",
    "%matplotlib inline"
   ]
  },
  {
   "cell_type": "markdown",
   "metadata": {},
   "source": [
    "### Load the data"
   ]
  },
  {
   "cell_type": "code",
   "execution_count": 4,
   "metadata": {
    "collapsed": false
   },
   "outputs": [],
   "source": [
    "df = pd.read_csv(\"./Data/England/E0_16.csv\")"
   ]
  },
  {
   "cell_type": "code",
   "execution_count": 5,
   "metadata": {
    "collapsed": false
   },
   "outputs": [
    {
     "data": {
      "text/plain": [
       "Index([u'Div', u'Date', u'HomeTeam', u'AwayTeam', u'FTHG', u'FTAG', u'FTR',\n",
       "       u'HTHG', u'HTAG', u'HTR', u'Referee', u'HS', u'AS', u'HST', u'AST',\n",
       "       u'HF', u'AF', u'HC', u'AC', u'HY', u'AY', u'HR', u'AR', u'B365H',\n",
       "       u'B365D', u'B365A', u'BWH', u'BWD', u'BWA', u'IWH', u'IWD', u'IWA',\n",
       "       u'LBH', u'LBD', u'LBA', u'PSH', u'PSD', u'PSA', u'WHH', u'WHD', u'WHA',\n",
       "       u'VCH', u'VCD', u'VCA', u'Bb1X2', u'BbMxH', u'BbAvH', u'BbMxD',\n",
       "       u'BbAvD', u'BbMxA', u'BbAvA', u'BbOU', u'BbMx>2.5', u'BbAv>2.5',\n",
       "       u'BbMx<2.5', u'BbAv<2.5', u'BbAH', u'BbAHh', u'BbMxAHH', u'BbAvAHH',\n",
       "       u'BbMxAHA', u'BbAvAHA', u'PSCH', u'PSCD', u'PSCA'],\n",
       "      dtype='object')"
      ]
     },
     "execution_count": 5,
     "metadata": {},
     "output_type": "execute_result"
    }
   ],
   "source": [
    "df.columns"
   ]
  },
  {
   "cell_type": "markdown",
   "metadata": {},
   "source": [
    "### Cleaning and subsetting required data\n",
    "\n",
    "Remove betting data as we don't need it for prediction. However, they could be good indicators of a team's current form - should try it out later."
   ]
  },
  {
   "cell_type": "code",
   "execution_count": 6,
   "metadata": {
    "collapsed": false
   },
   "outputs": [],
   "source": [
    "res_16 = df.ix[:,:23]\n",
    "res_16 = res_16.drop(['Div','Date'],axis=1)\n",
    "# res_14 = df_14.ix[:,:23]\n",
    "# res_14 = res_14.drop(['Div','Date'],axis=1)\n",
    "table_features = df.ix[:,:7]\n",
    "table_features = table_features.drop(['FTHG','FTAG','Div','Date'],axis=1)\n",
    "bet_16 = df.ix[:,23:]"
   ]
  },
  {
   "cell_type": "code",
   "execution_count": 7,
   "metadata": {
    "collapsed": false,
    "scrolled": true
   },
   "outputs": [],
   "source": [
    "res_16.head()\n",
    "feature_table = df.ix[:,:23]"
   ]
  },
  {
   "cell_type": "code",
   "execution_count": 9,
   "metadata": {
    "collapsed": false
   },
   "outputs": [
    {
     "data": {
      "text/html": [
       "<div>\n",
       "<table border=\"1\" class=\"dataframe\">\n",
       "  <thead>\n",
       "    <tr style=\"text-align: right;\">\n",
       "      <th></th>\n",
       "      <th>HomeTeam</th>\n",
       "      <th>AwayTeam</th>\n",
       "      <th>FTHG</th>\n",
       "      <th>FTAG</th>\n",
       "      <th>FTR</th>\n",
       "      <th>HTHG</th>\n",
       "      <th>HTAG</th>\n",
       "      <th>HTR</th>\n",
       "      <th>Referee</th>\n",
       "      <th>HS</th>\n",
       "      <th>...</th>\n",
       "      <th>HST</th>\n",
       "      <th>AST</th>\n",
       "      <th>HF</th>\n",
       "      <th>AF</th>\n",
       "      <th>HC</th>\n",
       "      <th>AC</th>\n",
       "      <th>HY</th>\n",
       "      <th>AY</th>\n",
       "      <th>HR</th>\n",
       "      <th>AR</th>\n",
       "    </tr>\n",
       "  </thead>\n",
       "  <tbody>\n",
       "    <tr>\n",
       "      <th>245</th>\n",
       "      <td>Sunderland</td>\n",
       "      <td>Southampton</td>\n",
       "      <td>0</td>\n",
       "      <td>4</td>\n",
       "      <td>A</td>\n",
       "      <td>0</td>\n",
       "      <td>2</td>\n",
       "      <td>A</td>\n",
       "      <td>P Tierney</td>\n",
       "      <td>6</td>\n",
       "      <td>...</td>\n",
       "      <td>1</td>\n",
       "      <td>8</td>\n",
       "      <td>12</td>\n",
       "      <td>14</td>\n",
       "      <td>6</td>\n",
       "      <td>2</td>\n",
       "      <td>1</td>\n",
       "      <td>0</td>\n",
       "      <td>0</td>\n",
       "      <td>0</td>\n",
       "    </tr>\n",
       "    <tr>\n",
       "      <th>246</th>\n",
       "      <td>West Ham</td>\n",
       "      <td>West Brom</td>\n",
       "      <td>2</td>\n",
       "      <td>2</td>\n",
       "      <td>D</td>\n",
       "      <td>0</td>\n",
       "      <td>1</td>\n",
       "      <td>A</td>\n",
       "      <td>M Oliver</td>\n",
       "      <td>16</td>\n",
       "      <td>...</td>\n",
       "      <td>4</td>\n",
       "      <td>3</td>\n",
       "      <td>7</td>\n",
       "      <td>14</td>\n",
       "      <td>7</td>\n",
       "      <td>5</td>\n",
       "      <td>3</td>\n",
       "      <td>2</td>\n",
       "      <td>0</td>\n",
       "      <td>0</td>\n",
       "    </tr>\n",
       "    <tr>\n",
       "      <th>247</th>\n",
       "      <td>Burnley</td>\n",
       "      <td>Chelsea</td>\n",
       "      <td>1</td>\n",
       "      <td>1</td>\n",
       "      <td>D</td>\n",
       "      <td>1</td>\n",
       "      <td>1</td>\n",
       "      <td>D</td>\n",
       "      <td>K Friend</td>\n",
       "      <td>6</td>\n",
       "      <td>...</td>\n",
       "      <td>4</td>\n",
       "      <td>2</td>\n",
       "      <td>12</td>\n",
       "      <td>11</td>\n",
       "      <td>1</td>\n",
       "      <td>1</td>\n",
       "      <td>3</td>\n",
       "      <td>2</td>\n",
       "      <td>0</td>\n",
       "      <td>0</td>\n",
       "    </tr>\n",
       "    <tr>\n",
       "      <th>248</th>\n",
       "      <td>Swansea</td>\n",
       "      <td>Leicester</td>\n",
       "      <td>2</td>\n",
       "      <td>0</td>\n",
       "      <td>H</td>\n",
       "      <td>2</td>\n",
       "      <td>0</td>\n",
       "      <td>H</td>\n",
       "      <td>J Moss</td>\n",
       "      <td>10</td>\n",
       "      <td>...</td>\n",
       "      <td>4</td>\n",
       "      <td>1</td>\n",
       "      <td>7</td>\n",
       "      <td>14</td>\n",
       "      <td>7</td>\n",
       "      <td>3</td>\n",
       "      <td>2</td>\n",
       "      <td>2</td>\n",
       "      <td>0</td>\n",
       "      <td>0</td>\n",
       "    </tr>\n",
       "    <tr>\n",
       "      <th>249</th>\n",
       "      <td>Bournemouth</td>\n",
       "      <td>Man City</td>\n",
       "      <td>0</td>\n",
       "      <td>2</td>\n",
       "      <td>A</td>\n",
       "      <td>0</td>\n",
       "      <td>1</td>\n",
       "      <td>A</td>\n",
       "      <td>N Swarbrick</td>\n",
       "      <td>5</td>\n",
       "      <td>...</td>\n",
       "      <td>1</td>\n",
       "      <td>5</td>\n",
       "      <td>8</td>\n",
       "      <td>11</td>\n",
       "      <td>3</td>\n",
       "      <td>7</td>\n",
       "      <td>2</td>\n",
       "      <td>3</td>\n",
       "      <td>0</td>\n",
       "      <td>0</td>\n",
       "    </tr>\n",
       "  </tbody>\n",
       "</table>\n",
       "<p>5 rows × 21 columns</p>\n",
       "</div>"
      ],
      "text/plain": [
       "        HomeTeam     AwayTeam  FTHG  FTAG FTR  HTHG  HTAG HTR      Referee  \\\n",
       "245   Sunderland  Southampton     0     4   A     0     2   A    P Tierney   \n",
       "246     West Ham    West Brom     2     2   D     0     1   A     M Oliver   \n",
       "247      Burnley      Chelsea     1     1   D     1     1   D     K Friend   \n",
       "248      Swansea    Leicester     2     0   H     2     0   H       J Moss   \n",
       "249  Bournemouth     Man City     0     2   A     0     1   A  N Swarbrick   \n",
       "\n",
       "     HS ...  HST  AST  HF  AF  HC  AC  HY  AY  HR  AR  \n",
       "245   6 ...    1    8  12  14   6   2   1   0   0   0  \n",
       "246  16 ...    4    3   7  14   7   5   3   2   0   0  \n",
       "247   6 ...    4    2  12  11   1   1   3   2   0   0  \n",
       "248  10 ...    4    1   7  14   7   3   2   2   0   0  \n",
       "249   5 ...    1    5   8  11   3   7   2   3   0   0  \n",
       "\n",
       "[5 rows x 21 columns]"
      ]
     },
     "execution_count": 9,
     "metadata": {},
     "output_type": "execute_result"
    }
   ],
   "source": [
    "res_16.tail()"
   ]
  },
  {
   "cell_type": "code",
   "execution_count": 10,
   "metadata": {
    "collapsed": false
   },
   "outputs": [],
   "source": [
    "#Team, Home Goals Score, Away Goals Score, Attack Strength, Home Goals Conceded, Away Goals Conceded, Defensive Strength\n",
    "table_16 = pd.DataFrame(columns=('Team','HGS','AGS','HAS','AAS','HGC','AGC','HDS','ADS',))"
   ]
  },
  {
   "cell_type": "code",
   "execution_count": 11,
   "metadata": {
    "collapsed": false
   },
   "outputs": [
    {
     "data": {
      "text/plain": [
       "250"
      ]
     },
     "execution_count": 11,
     "metadata": {},
     "output_type": "execute_result"
    }
   ],
   "source": [
    "res_16.shape[0]"
   ]
  },
  {
   "cell_type": "code",
   "execution_count": 14,
   "metadata": {
    "collapsed": false
   },
   "outputs": [
    {
     "name": "stdout",
     "output_type": "stream",
     "text": [
      "Average number of goals at home 1.588\n",
      "Average number of goals away 1.228\n",
      "Average number of goals conceded at home 1.228\n",
      "Average number of goals conceded away 1.588\n"
     ]
    }
   ],
   "source": [
    "avg_home_scored_16 = res_16.FTHG.sum()*1.0 / res_16.shape[0]\n",
    "avg_away_scored_16 = res_16.FTAG.sum()*1.0 / res_16.shape[0]\n",
    "avg_home_conceded_16 = avg_away_scored_16\n",
    "avg_away_conceded_16 = avg_home_scored_16\n",
    "print \"Average number of goals at home\",avg_home_scored_16\n",
    "print \"Average number of goals away\", avg_away_scored_16\n",
    "print \"Average number of goals conceded at home\",avg_home_conceded_16\n",
    "print \"Average number of goals conceded away\",avg_away_conceded_16"
   ]
  },
  {
   "cell_type": "code",
   "execution_count": 15,
   "metadata": {
    "collapsed": false
   },
   "outputs": [],
   "source": [
    "res_home = res_16.groupby('HomeTeam')\n",
    "res_away = res_16.groupby('AwayTeam')"
   ]
  },
  {
   "cell_type": "code",
   "execution_count": 16,
   "metadata": {
    "collapsed": false
   },
   "outputs": [],
   "source": [
    "# list(res_home)[0]"
   ]
  },
  {
   "cell_type": "code",
   "execution_count": 17,
   "metadata": {
    "collapsed": false
   },
   "outputs": [
    {
     "data": {
      "text/html": [
       "<div>\n",
       "<table border=\"1\" class=\"dataframe\">\n",
       "  <thead>\n",
       "    <tr style=\"text-align: right;\">\n",
       "      <th></th>\n",
       "      <th>Team</th>\n",
       "      <th>HGS</th>\n",
       "      <th>AGS</th>\n",
       "      <th>HAS</th>\n",
       "      <th>AAS</th>\n",
       "      <th>HGC</th>\n",
       "      <th>AGC</th>\n",
       "      <th>HDS</th>\n",
       "      <th>ADS</th>\n",
       "    </tr>\n",
       "  </thead>\n",
       "  <tbody>\n",
       "    <tr>\n",
       "      <th>0</th>\n",
       "      <td>Arsenal</td>\n",
       "      <td>26</td>\n",
       "      <td>28</td>\n",
       "      <td>NaN</td>\n",
       "      <td>NaN</td>\n",
       "      <td>13</td>\n",
       "      <td>15</td>\n",
       "      <td>NaN</td>\n",
       "      <td>NaN</td>\n",
       "    </tr>\n",
       "    <tr>\n",
       "      <th>1</th>\n",
       "      <td>Bournemouth</td>\n",
       "      <td>21</td>\n",
       "      <td>14</td>\n",
       "      <td>NaN</td>\n",
       "      <td>NaN</td>\n",
       "      <td>21</td>\n",
       "      <td>28</td>\n",
       "      <td>NaN</td>\n",
       "      <td>NaN</td>\n",
       "    </tr>\n",
       "    <tr>\n",
       "      <th>2</th>\n",
       "      <td>Burnley</td>\n",
       "      <td>22</td>\n",
       "      <td>5</td>\n",
       "      <td>NaN</td>\n",
       "      <td>NaN</td>\n",
       "      <td>12</td>\n",
       "      <td>24</td>\n",
       "      <td>NaN</td>\n",
       "      <td>NaN</td>\n",
       "    </tr>\n",
       "    <tr>\n",
       "      <th>3</th>\n",
       "      <td>Chelsea</td>\n",
       "      <td>33</td>\n",
       "      <td>19</td>\n",
       "      <td>NaN</td>\n",
       "      <td>NaN</td>\n",
       "      <td>7</td>\n",
       "      <td>11</td>\n",
       "      <td>NaN</td>\n",
       "      <td>NaN</td>\n",
       "    </tr>\n",
       "    <tr>\n",
       "      <th>4</th>\n",
       "      <td>Crystal Palace</td>\n",
       "      <td>13</td>\n",
       "      <td>19</td>\n",
       "      <td>NaN</td>\n",
       "      <td>NaN</td>\n",
       "      <td>20</td>\n",
       "      <td>26</td>\n",
       "      <td>NaN</td>\n",
       "      <td>NaN</td>\n",
       "    </tr>\n",
       "    <tr>\n",
       "      <th>5</th>\n",
       "      <td>Everton</td>\n",
       "      <td>25</td>\n",
       "      <td>15</td>\n",
       "      <td>NaN</td>\n",
       "      <td>NaN</td>\n",
       "      <td>10</td>\n",
       "      <td>17</td>\n",
       "      <td>NaN</td>\n",
       "      <td>NaN</td>\n",
       "    </tr>\n",
       "    <tr>\n",
       "      <th>6</th>\n",
       "      <td>Hull</td>\n",
       "      <td>16</td>\n",
       "      <td>6</td>\n",
       "      <td>NaN</td>\n",
       "      <td>NaN</td>\n",
       "      <td>21</td>\n",
       "      <td>28</td>\n",
       "      <td>NaN</td>\n",
       "      <td>NaN</td>\n",
       "    </tr>\n",
       "    <tr>\n",
       "      <th>7</th>\n",
       "      <td>Leicester</td>\n",
       "      <td>16</td>\n",
       "      <td>8</td>\n",
       "      <td>NaN</td>\n",
       "      <td>NaN</td>\n",
       "      <td>16</td>\n",
       "      <td>27</td>\n",
       "      <td>NaN</td>\n",
       "      <td>NaN</td>\n",
       "    </tr>\n",
       "    <tr>\n",
       "      <th>8</th>\n",
       "      <td>Liverpool</td>\n",
       "      <td>31</td>\n",
       "      <td>23</td>\n",
       "      <td>NaN</td>\n",
       "      <td>NaN</td>\n",
       "      <td>11</td>\n",
       "      <td>19</td>\n",
       "      <td>NaN</td>\n",
       "      <td>NaN</td>\n",
       "    </tr>\n",
       "    <tr>\n",
       "      <th>9</th>\n",
       "      <td>Man City</td>\n",
       "      <td>23</td>\n",
       "      <td>28</td>\n",
       "      <td>NaN</td>\n",
       "      <td>NaN</td>\n",
       "      <td>13</td>\n",
       "      <td>16</td>\n",
       "      <td>NaN</td>\n",
       "      <td>NaN</td>\n",
       "    </tr>\n",
       "    <tr>\n",
       "      <th>10</th>\n",
       "      <td>Man United</td>\n",
       "      <td>19</td>\n",
       "      <td>19</td>\n",
       "      <td>NaN</td>\n",
       "      <td>NaN</td>\n",
       "      <td>9</td>\n",
       "      <td>12</td>\n",
       "      <td>NaN</td>\n",
       "      <td>NaN</td>\n",
       "    </tr>\n",
       "    <tr>\n",
       "      <th>11</th>\n",
       "      <td>Middlesbrough</td>\n",
       "      <td>11</td>\n",
       "      <td>8</td>\n",
       "      <td>NaN</td>\n",
       "      <td>NaN</td>\n",
       "      <td>14</td>\n",
       "      <td>13</td>\n",
       "      <td>NaN</td>\n",
       "      <td>NaN</td>\n",
       "    </tr>\n",
       "    <tr>\n",
       "      <th>12</th>\n",
       "      <td>Southampton</td>\n",
       "      <td>14</td>\n",
       "      <td>14</td>\n",
       "      <td>NaN</td>\n",
       "      <td>NaN</td>\n",
       "      <td>14</td>\n",
       "      <td>17</td>\n",
       "      <td>NaN</td>\n",
       "      <td>NaN</td>\n",
       "    </tr>\n",
       "    <tr>\n",
       "      <th>13</th>\n",
       "      <td>Stoke</td>\n",
       "      <td>16</td>\n",
       "      <td>14</td>\n",
       "      <td>NaN</td>\n",
       "      <td>NaN</td>\n",
       "      <td>15</td>\n",
       "      <td>21</td>\n",
       "      <td>NaN</td>\n",
       "      <td>NaN</td>\n",
       "    </tr>\n",
       "    <tr>\n",
       "      <th>14</th>\n",
       "      <td>Sunderland</td>\n",
       "      <td>14</td>\n",
       "      <td>10</td>\n",
       "      <td>NaN</td>\n",
       "      <td>NaN</td>\n",
       "      <td>24</td>\n",
       "      <td>22</td>\n",
       "      <td>NaN</td>\n",
       "      <td>NaN</td>\n",
       "    </tr>\n",
       "    <tr>\n",
       "      <th>15</th>\n",
       "      <td>Swansea</td>\n",
       "      <td>18</td>\n",
       "      <td>13</td>\n",
       "      <td>NaN</td>\n",
       "      <td>NaN</td>\n",
       "      <td>28</td>\n",
       "      <td>26</td>\n",
       "      <td>NaN</td>\n",
       "      <td>NaN</td>\n",
       "    </tr>\n",
       "    <tr>\n",
       "      <th>16</th>\n",
       "      <td>Tottenham</td>\n",
       "      <td>26</td>\n",
       "      <td>20</td>\n",
       "      <td>NaN</td>\n",
       "      <td>NaN</td>\n",
       "      <td>5</td>\n",
       "      <td>13</td>\n",
       "      <td>NaN</td>\n",
       "      <td>NaN</td>\n",
       "    </tr>\n",
       "    <tr>\n",
       "      <th>17</th>\n",
       "      <td>Watford</td>\n",
       "      <td>17</td>\n",
       "      <td>12</td>\n",
       "      <td>NaN</td>\n",
       "      <td>NaN</td>\n",
       "      <td>18</td>\n",
       "      <td>24</td>\n",
       "      <td>NaN</td>\n",
       "      <td>NaN</td>\n",
       "    </tr>\n",
       "    <tr>\n",
       "      <th>18</th>\n",
       "      <td>West Brom</td>\n",
       "      <td>22</td>\n",
       "      <td>12</td>\n",
       "      <td>NaN</td>\n",
       "      <td>NaN</td>\n",
       "      <td>14</td>\n",
       "      <td>17</td>\n",
       "      <td>NaN</td>\n",
       "      <td>NaN</td>\n",
       "    </tr>\n",
       "    <tr>\n",
       "      <th>19</th>\n",
       "      <td>West Ham</td>\n",
       "      <td>14</td>\n",
       "      <td>20</td>\n",
       "      <td>NaN</td>\n",
       "      <td>NaN</td>\n",
       "      <td>22</td>\n",
       "      <td>21</td>\n",
       "      <td>NaN</td>\n",
       "      <td>NaN</td>\n",
       "    </tr>\n",
       "  </tbody>\n",
       "</table>\n",
       "</div>"
      ],
      "text/plain": [
       "              Team  HGS  AGS  HAS  AAS  HGC  AGC  HDS  ADS\n",
       "0          Arsenal   26   28  NaN  NaN   13   15  NaN  NaN\n",
       "1      Bournemouth   21   14  NaN  NaN   21   28  NaN  NaN\n",
       "2          Burnley   22    5  NaN  NaN   12   24  NaN  NaN\n",
       "3          Chelsea   33   19  NaN  NaN    7   11  NaN  NaN\n",
       "4   Crystal Palace   13   19  NaN  NaN   20   26  NaN  NaN\n",
       "5          Everton   25   15  NaN  NaN   10   17  NaN  NaN\n",
       "6             Hull   16    6  NaN  NaN   21   28  NaN  NaN\n",
       "7        Leicester   16    8  NaN  NaN   16   27  NaN  NaN\n",
       "8        Liverpool   31   23  NaN  NaN   11   19  NaN  NaN\n",
       "9         Man City   23   28  NaN  NaN   13   16  NaN  NaN\n",
       "10      Man United   19   19  NaN  NaN    9   12  NaN  NaN\n",
       "11   Middlesbrough   11    8  NaN  NaN   14   13  NaN  NaN\n",
       "12     Southampton   14   14  NaN  NaN   14   17  NaN  NaN\n",
       "13           Stoke   16   14  NaN  NaN   15   21  NaN  NaN\n",
       "14      Sunderland   14   10  NaN  NaN   24   22  NaN  NaN\n",
       "15         Swansea   18   13  NaN  NaN   28   26  NaN  NaN\n",
       "16       Tottenham   26   20  NaN  NaN    5   13  NaN  NaN\n",
       "17         Watford   17   12  NaN  NaN   18   24  NaN  NaN\n",
       "18       West Brom   22   12  NaN  NaN   14   17  NaN  NaN\n",
       "19        West Ham   14   20  NaN  NaN   22   21  NaN  NaN"
      ]
     },
     "execution_count": 17,
     "metadata": {},
     "output_type": "execute_result"
    }
   ],
   "source": [
    "table_16.Team = res_home.HomeTeam.all().values\n",
    "table_16.HGS = res_home.FTHG.sum().values\n",
    "table_16.HGC = res_home.FTAG.sum().values\n",
    "table_16.AGS = res_away.FTAG.sum().values\n",
    "table_16.AGC = res_away.FTHG.sum().values\n",
    "table_16"
   ]
  },
  {
   "cell_type": "code",
   "execution_count": 20,
   "metadata": {
    "collapsed": true
   },
   "outputs": [],
   "source": [
    "#Assuming number of home games = number of away games\n",
    "num_games = res_16.shape[0]/20"
   ]
  },
  {
   "cell_type": "code",
   "execution_count": 21,
   "metadata": {
    "collapsed": false
   },
   "outputs": [
    {
     "data": {
      "text/html": [
       "<div>\n",
       "<table border=\"1\" class=\"dataframe\">\n",
       "  <thead>\n",
       "    <tr style=\"text-align: right;\">\n",
       "      <th></th>\n",
       "      <th>Team</th>\n",
       "      <th>HGS</th>\n",
       "      <th>AGS</th>\n",
       "      <th>HAS</th>\n",
       "      <th>AAS</th>\n",
       "      <th>HGC</th>\n",
       "      <th>AGC</th>\n",
       "      <th>HDS</th>\n",
       "      <th>ADS</th>\n",
       "    </tr>\n",
       "  </thead>\n",
       "  <tbody>\n",
       "    <tr>\n",
       "      <th>0</th>\n",
       "      <td>Arsenal</td>\n",
       "      <td>26</td>\n",
       "      <td>28</td>\n",
       "      <td>1.309824</td>\n",
       "      <td>1.824104</td>\n",
       "      <td>13</td>\n",
       "      <td>15</td>\n",
       "      <td>0.846906</td>\n",
       "      <td>0.755668</td>\n",
       "    </tr>\n",
       "    <tr>\n",
       "      <th>1</th>\n",
       "      <td>Bournemouth</td>\n",
       "      <td>21</td>\n",
       "      <td>14</td>\n",
       "      <td>1.057935</td>\n",
       "      <td>0.912052</td>\n",
       "      <td>21</td>\n",
       "      <td>28</td>\n",
       "      <td>1.368078</td>\n",
       "      <td>1.410579</td>\n",
       "    </tr>\n",
       "    <tr>\n",
       "      <th>2</th>\n",
       "      <td>Burnley</td>\n",
       "      <td>22</td>\n",
       "      <td>5</td>\n",
       "      <td>1.108312</td>\n",
       "      <td>0.325733</td>\n",
       "      <td>12</td>\n",
       "      <td>24</td>\n",
       "      <td>0.781759</td>\n",
       "      <td>1.209068</td>\n",
       "    </tr>\n",
       "    <tr>\n",
       "      <th>3</th>\n",
       "      <td>Chelsea</td>\n",
       "      <td>33</td>\n",
       "      <td>19</td>\n",
       "      <td>1.662469</td>\n",
       "      <td>1.237785</td>\n",
       "      <td>7</td>\n",
       "      <td>11</td>\n",
       "      <td>0.456026</td>\n",
       "      <td>0.554156</td>\n",
       "    </tr>\n",
       "    <tr>\n",
       "      <th>4</th>\n",
       "      <td>Crystal Palace</td>\n",
       "      <td>13</td>\n",
       "      <td>19</td>\n",
       "      <td>0.654912</td>\n",
       "      <td>1.237785</td>\n",
       "      <td>20</td>\n",
       "      <td>26</td>\n",
       "      <td>1.302932</td>\n",
       "      <td>1.309824</td>\n",
       "    </tr>\n",
       "  </tbody>\n",
       "</table>\n",
       "</div>"
      ],
      "text/plain": [
       "             Team  HGS  AGS       HAS       AAS  HGC  AGC       HDS       ADS\n",
       "0         Arsenal   26   28  1.309824  1.824104   13   15  0.846906  0.755668\n",
       "1     Bournemouth   21   14  1.057935  0.912052   21   28  1.368078  1.410579\n",
       "2         Burnley   22    5  1.108312  0.325733   12   24  0.781759  1.209068\n",
       "3         Chelsea   33   19  1.662469  1.237785    7   11  0.456026  0.554156\n",
       "4  Crystal Palace   13   19  0.654912  1.237785   20   26  1.302932  1.309824"
      ]
     },
     "execution_count": 21,
     "metadata": {},
     "output_type": "execute_result"
    }
   ],
   "source": [
    "table_16.HAS = (table_16.HGS / num_games) / avg_home_scored_16\n",
    "table_16.AAS = (table_16.AGS / num_games) / avg_away_scored_16\n",
    "table_16.HDS = (table_16.HGC / num_games) / avg_home_conceded_16\n",
    "table_16.ADS = (table_16.AGC / num_games) / avg_away_conceded_16\n",
    "table_16.head()"
   ]
  },
  {
   "cell_type": "code",
   "execution_count": 22,
   "metadata": {
    "collapsed": false
   },
   "outputs": [],
   "source": [
    "''' feature_table contains all the fixtures in the current season.\n",
    "ftr = full time result\n",
    "hst = home shots on target\n",
    "ast = away shots on target\n",
    "'''\n",
    "\n",
    "feature_table = feature_table[['HomeTeam','AwayTeam','FTR','HST','AST']]\n",
    "f_HAS = []\n",
    "f_HDS = []\n",
    "f_AAS = []\n",
    "f_ADS = []\n",
    "for index,row in feature_table.iterrows():\n",
    "    f_HAS.append(table_16[table_16['Team'] == row['HomeTeam']]['HAS'].values[0])\n",
    "    f_HDS.append(table_16[table_16['Team'] == row['HomeTeam']]['HDS'].values[0])\n",
    "    f_AAS.append(table_16[table_16['Team'] == row['HomeTeam']]['AAS'].values[0])\n",
    "    f_ADS.append(table_16[table_16['Team'] == row['HomeTeam']]['ADS'].values[0])\n",
    "    \n",
    "feature_table['HAS'] = f_HAS\n",
    "feature_table['HDS'] = f_HDS\n",
    "feature_table['AAS'] = f_AAS\n",
    "feature_table['ADS'] = f_ADS"
   ]
  },
  {
   "cell_type": "code",
   "execution_count": 23,
   "metadata": {
    "collapsed": false
   },
   "outputs": [
    {
     "data": {
      "text/html": [
       "<div>\n",
       "<table border=\"1\" class=\"dataframe\">\n",
       "  <thead>\n",
       "    <tr style=\"text-align: right;\">\n",
       "      <th></th>\n",
       "      <th>HomeTeam</th>\n",
       "      <th>AwayTeam</th>\n",
       "      <th>FTR</th>\n",
       "      <th>HST</th>\n",
       "      <th>AST</th>\n",
       "      <th>HAS</th>\n",
       "      <th>HDS</th>\n",
       "      <th>AAS</th>\n",
       "      <th>ADS</th>\n",
       "    </tr>\n",
       "  </thead>\n",
       "  <tbody>\n",
       "    <tr>\n",
       "      <th>0</th>\n",
       "      <td>Burnley</td>\n",
       "      <td>Swansea</td>\n",
       "      <td>A</td>\n",
       "      <td>3</td>\n",
       "      <td>9</td>\n",
       "      <td>1.108312</td>\n",
       "      <td>0.781759</td>\n",
       "      <td>0.325733</td>\n",
       "      <td>1.209068</td>\n",
       "    </tr>\n",
       "    <tr>\n",
       "      <th>1</th>\n",
       "      <td>Crystal Palace</td>\n",
       "      <td>West Brom</td>\n",
       "      <td>A</td>\n",
       "      <td>4</td>\n",
       "      <td>3</td>\n",
       "      <td>0.654912</td>\n",
       "      <td>1.302932</td>\n",
       "      <td>1.237785</td>\n",
       "      <td>1.309824</td>\n",
       "    </tr>\n",
       "    <tr>\n",
       "      <th>2</th>\n",
       "      <td>Everton</td>\n",
       "      <td>Tottenham</td>\n",
       "      <td>D</td>\n",
       "      <td>6</td>\n",
       "      <td>4</td>\n",
       "      <td>1.259446</td>\n",
       "      <td>0.651466</td>\n",
       "      <td>0.977199</td>\n",
       "      <td>0.856423</td>\n",
       "    </tr>\n",
       "    <tr>\n",
       "      <th>3</th>\n",
       "      <td>Hull</td>\n",
       "      <td>Leicester</td>\n",
       "      <td>H</td>\n",
       "      <td>5</td>\n",
       "      <td>5</td>\n",
       "      <td>0.806045</td>\n",
       "      <td>1.368078</td>\n",
       "      <td>0.390879</td>\n",
       "      <td>1.410579</td>\n",
       "    </tr>\n",
       "    <tr>\n",
       "      <th>4</th>\n",
       "      <td>Man City</td>\n",
       "      <td>Sunderland</td>\n",
       "      <td>H</td>\n",
       "      <td>4</td>\n",
       "      <td>3</td>\n",
       "      <td>1.158690</td>\n",
       "      <td>0.846906</td>\n",
       "      <td>1.824104</td>\n",
       "      <td>0.806045</td>\n",
       "    </tr>\n",
       "  </tbody>\n",
       "</table>\n",
       "</div>"
      ],
      "text/plain": [
       "         HomeTeam    AwayTeam FTR  HST  AST       HAS       HDS       AAS  \\\n",
       "0         Burnley     Swansea   A    3    9  1.108312  0.781759  0.325733   \n",
       "1  Crystal Palace   West Brom   A    4    3  0.654912  1.302932  1.237785   \n",
       "2         Everton   Tottenham   D    6    4  1.259446  0.651466  0.977199   \n",
       "3            Hull   Leicester   H    5    5  0.806045  1.368078  0.390879   \n",
       "4        Man City  Sunderland   H    4    3  1.158690  0.846906  1.824104   \n",
       "\n",
       "        ADS  \n",
       "0  1.209068  \n",
       "1  1.309824  \n",
       "2  0.856423  \n",
       "3  1.410579  \n",
       "4  0.806045  "
      ]
     },
     "execution_count": 23,
     "metadata": {},
     "output_type": "execute_result"
    }
   ],
   "source": [
    "feature_table.head()"
   ]
  },
  {
   "cell_type": "code",
   "execution_count": 24,
   "metadata": {
    "collapsed": true
   },
   "outputs": [],
   "source": [
    "def transformResult(row):\n",
    "    '''Converts results (H,A or D) into numeric values'''\n",
    "    if(row.FTR == 'H'):\n",
    "        return 1\n",
    "    elif(row.FTR == 'A'):\n",
    "        return -1\n",
    "    else:\n",
    "        return 0"
   ]
  },
  {
   "cell_type": "code",
   "execution_count": 25,
   "metadata": {
    "collapsed": false
   },
   "outputs": [],
   "source": [
    "feature_table[\"Result\"] = feature_table.apply(lambda row: transformResult(row),axis=1)"
   ]
  },
  {
   "cell_type": "code",
   "execution_count": 26,
   "metadata": {
    "collapsed": false
   },
   "outputs": [
    {
     "data": {
      "text/html": [
       "<div>\n",
       "<table border=\"1\" class=\"dataframe\">\n",
       "  <thead>\n",
       "    <tr style=\"text-align: right;\">\n",
       "      <th></th>\n",
       "      <th>HomeTeam</th>\n",
       "      <th>AwayTeam</th>\n",
       "      <th>FTR</th>\n",
       "      <th>HST</th>\n",
       "      <th>AST</th>\n",
       "      <th>HAS</th>\n",
       "      <th>HDS</th>\n",
       "      <th>AAS</th>\n",
       "      <th>ADS</th>\n",
       "      <th>Result</th>\n",
       "    </tr>\n",
       "  </thead>\n",
       "  <tbody>\n",
       "    <tr>\n",
       "      <th>240</th>\n",
       "      <td>Arsenal</td>\n",
       "      <td>Hull</td>\n",
       "      <td>H</td>\n",
       "      <td>7</td>\n",
       "      <td>4</td>\n",
       "      <td>1.309824</td>\n",
       "      <td>0.846906</td>\n",
       "      <td>1.824104</td>\n",
       "      <td>0.755668</td>\n",
       "      <td>1</td>\n",
       "    </tr>\n",
       "    <tr>\n",
       "      <th>241</th>\n",
       "      <td>Liverpool</td>\n",
       "      <td>Tottenham</td>\n",
       "      <td>H</td>\n",
       "      <td>9</td>\n",
       "      <td>2</td>\n",
       "      <td>1.561713</td>\n",
       "      <td>0.716612</td>\n",
       "      <td>1.498371</td>\n",
       "      <td>0.957179</td>\n",
       "      <td>1</td>\n",
       "    </tr>\n",
       "    <tr>\n",
       "      <th>242</th>\n",
       "      <td>Man United</td>\n",
       "      <td>Watford</td>\n",
       "      <td>H</td>\n",
       "      <td>11</td>\n",
       "      <td>3</td>\n",
       "      <td>0.957179</td>\n",
       "      <td>0.586319</td>\n",
       "      <td>1.237785</td>\n",
       "      <td>0.604534</td>\n",
       "      <td>1</td>\n",
       "    </tr>\n",
       "    <tr>\n",
       "      <th>243</th>\n",
       "      <td>Middlesbrough</td>\n",
       "      <td>Everton</td>\n",
       "      <td>D</td>\n",
       "      <td>3</td>\n",
       "      <td>3</td>\n",
       "      <td>0.554156</td>\n",
       "      <td>0.912052</td>\n",
       "      <td>0.521173</td>\n",
       "      <td>0.654912</td>\n",
       "      <td>0</td>\n",
       "    </tr>\n",
       "    <tr>\n",
       "      <th>244</th>\n",
       "      <td>Stoke</td>\n",
       "      <td>Crystal Palace</td>\n",
       "      <td>H</td>\n",
       "      <td>4</td>\n",
       "      <td>1</td>\n",
       "      <td>0.806045</td>\n",
       "      <td>0.977199</td>\n",
       "      <td>0.912052</td>\n",
       "      <td>1.057935</td>\n",
       "      <td>1</td>\n",
       "    </tr>\n",
       "    <tr>\n",
       "      <th>245</th>\n",
       "      <td>Sunderland</td>\n",
       "      <td>Southampton</td>\n",
       "      <td>A</td>\n",
       "      <td>1</td>\n",
       "      <td>8</td>\n",
       "      <td>0.705290</td>\n",
       "      <td>1.563518</td>\n",
       "      <td>0.651466</td>\n",
       "      <td>1.108312</td>\n",
       "      <td>-1</td>\n",
       "    </tr>\n",
       "    <tr>\n",
       "      <th>246</th>\n",
       "      <td>West Ham</td>\n",
       "      <td>West Brom</td>\n",
       "      <td>D</td>\n",
       "      <td>4</td>\n",
       "      <td>3</td>\n",
       "      <td>0.705290</td>\n",
       "      <td>1.433225</td>\n",
       "      <td>1.302932</td>\n",
       "      <td>1.057935</td>\n",
       "      <td>0</td>\n",
       "    </tr>\n",
       "    <tr>\n",
       "      <th>247</th>\n",
       "      <td>Burnley</td>\n",
       "      <td>Chelsea</td>\n",
       "      <td>D</td>\n",
       "      <td>4</td>\n",
       "      <td>2</td>\n",
       "      <td>1.108312</td>\n",
       "      <td>0.781759</td>\n",
       "      <td>0.325733</td>\n",
       "      <td>1.209068</td>\n",
       "      <td>0</td>\n",
       "    </tr>\n",
       "    <tr>\n",
       "      <th>248</th>\n",
       "      <td>Swansea</td>\n",
       "      <td>Leicester</td>\n",
       "      <td>H</td>\n",
       "      <td>4</td>\n",
       "      <td>1</td>\n",
       "      <td>0.906801</td>\n",
       "      <td>1.824104</td>\n",
       "      <td>0.846906</td>\n",
       "      <td>1.309824</td>\n",
       "      <td>1</td>\n",
       "    </tr>\n",
       "    <tr>\n",
       "      <th>249</th>\n",
       "      <td>Bournemouth</td>\n",
       "      <td>Man City</td>\n",
       "      <td>A</td>\n",
       "      <td>1</td>\n",
       "      <td>5</td>\n",
       "      <td>1.057935</td>\n",
       "      <td>1.368078</td>\n",
       "      <td>0.912052</td>\n",
       "      <td>1.410579</td>\n",
       "      <td>-1</td>\n",
       "    </tr>\n",
       "  </tbody>\n",
       "</table>\n",
       "</div>"
      ],
      "text/plain": [
       "          HomeTeam        AwayTeam FTR  HST  AST       HAS       HDS  \\\n",
       "240        Arsenal            Hull   H    7    4  1.309824  0.846906   \n",
       "241      Liverpool       Tottenham   H    9    2  1.561713  0.716612   \n",
       "242     Man United         Watford   H   11    3  0.957179  0.586319   \n",
       "243  Middlesbrough         Everton   D    3    3  0.554156  0.912052   \n",
       "244          Stoke  Crystal Palace   H    4    1  0.806045  0.977199   \n",
       "245     Sunderland     Southampton   A    1    8  0.705290  1.563518   \n",
       "246       West Ham       West Brom   D    4    3  0.705290  1.433225   \n",
       "247        Burnley         Chelsea   D    4    2  1.108312  0.781759   \n",
       "248        Swansea       Leicester   H    4    1  0.906801  1.824104   \n",
       "249    Bournemouth        Man City   A    1    5  1.057935  1.368078   \n",
       "\n",
       "          AAS       ADS  Result  \n",
       "240  1.824104  0.755668       1  \n",
       "241  1.498371  0.957179       1  \n",
       "242  1.237785  0.604534       1  \n",
       "243  0.521173  0.654912       0  \n",
       "244  0.912052  1.057935       1  \n",
       "245  0.651466  1.108312      -1  \n",
       "246  1.302932  1.057935       0  \n",
       "247  0.325733  1.209068       0  \n",
       "248  0.846906  1.309824       1  \n",
       "249  0.912052  1.410579      -1  "
      ]
     },
     "execution_count": 26,
     "metadata": {},
     "output_type": "execute_result"
    }
   ],
   "source": [
    "feature_table.tail(10)"
   ]
  },
  {
   "cell_type": "code",
   "execution_count": 27,
   "metadata": {
    "collapsed": false
   },
   "outputs": [],
   "source": [
    "X_train = feature_table[['HST','AST','HAS','HDS','AAS','ADS',]]\n",
    "y_train = feature_table['Result']"
   ]
  },
  {
   "cell_type": "code",
   "execution_count": 28,
   "metadata": {
    "collapsed": false
   },
   "outputs": [],
   "source": [
    "from sklearn.tree import DecisionTreeClassifier\n",
    "from sklearn.naive_bayes import MultinomialNB\n",
    "from xgboost import XGBClassifier\n",
    "from sklearn.metrics import accuracy_score\n",
    "from sklearn.model_selection import cross_val_score\n",
    "from sklearn.linear_model import LogisticRegression\n",
    "from sklearn.ensemble import RandomForestClassifier\n",
    "from sklearn.neighbors import KNeighborsClassifier\n",
    "from sklearn.ensemble import voting_classifier\n",
    "from sklearn.svm import LinearSVC"
   ]
  },
  {
   "cell_type": "code",
   "execution_count": 29,
   "metadata": {
    "collapsed": false
   },
   "outputs": [],
   "source": [
    "clf1 = RandomForestClassifier()\n",
    "clf2 = MultinomialNB()\n",
    "clf3 = XGBClassifier()\n",
    "clf4 = LinearSVC()"
   ]
  },
  {
   "cell_type": "code",
   "execution_count": 30,
   "metadata": {
    "collapsed": false
   },
   "outputs": [
    {
     "name": "stdout",
     "output_type": "stream",
     "text": [
      "[ 0.46153846  0.46153846  0.48        0.48        0.48        0.36        0.56\n",
      "  0.48        0.66666667  0.41666667]\n",
      "0.484641025641\n"
     ]
    }
   ],
   "source": [
    "y_pred = clf4.fit(X_train,y_train).predict(X_train)\n",
    "accuracy_score(y_pred,y_train)\n",
    "scores = cross_val_score(clf1, X_train, y_train, cv=10)\n",
    "print scores\n",
    "print scores.mean()"
   ]
  },
  {
   "cell_type": "code",
   "execution_count": 31,
   "metadata": {
    "collapsed": false
   },
   "outputs": [
    {
     "name": "stdout",
     "output_type": "stream",
     "text": [
      "[ 0.46153846  0.34615385  0.64        0.52        0.56        0.4         0.52\n",
      "  0.52        0.45833333  0.45833333]\n",
      "0.488435897436\n"
     ]
    }
   ],
   "source": [
    "y_pred = clf1.fit(X_train,y_train).predict(X_train)\n",
    "accuracy_score(y_pred,y_train)\n",
    "scores = cross_val_score(clf1, X_train, y_train, cv=10)\n",
    "print scores\n",
    "print scores.mean()"
   ]
  },
  {
   "cell_type": "code",
   "execution_count": 32,
   "metadata": {
    "collapsed": false
   },
   "outputs": [
    {
     "name": "stdout",
     "output_type": "stream",
     "text": [
      "[ 0.61538462  0.65384615  0.56        0.56        0.64        0.6         0.76\n",
      "  0.68        0.58333333  0.66666667]\n",
      "0.631923076923\n"
     ]
    }
   ],
   "source": [
    "y_pred = clf2.fit(X_train,y_train).predict(X_train)\n",
    "accuracy_score(y_pred,y_train)\n",
    "scores = cross_val_score(clf2, X_train, y_train, cv=10)\n",
    "print scores\n",
    "print scores.mean()"
   ]
  },
  {
   "cell_type": "code",
   "execution_count": 33,
   "metadata": {
    "collapsed": false
   },
   "outputs": [
    {
     "name": "stdout",
     "output_type": "stream",
     "text": [
      "[ 0.34615385  0.61538462  0.64        0.4         0.56        0.52        0.6\n",
      "  0.6         0.625       0.58333333]\n",
      "0.548987179487\n"
     ]
    }
   ],
   "source": [
    "y_pred = clf3.fit(X_train, y_train).predict(X_train)\n",
    "accuracy_score(y_pred,y_train)\n",
    "scores = cross_val_score(clf3, X_train, y_train, cv=10)\n",
    "print scores\n",
    "print scores.mean()"
   ]
  },
  {
   "cell_type": "markdown",
   "metadata": {},
   "source": [
    "## Adding Recent Performance"
   ]
  },
  {
   "cell_type": "code",
   "execution_count": 47,
   "metadata": {
    "collapsed": false
   },
   "outputs": [],
   "source": [
    "#What is this for?\n",
    "ht = res_16.loc[40].HomeTeam\n",
    "at = res_16.loc[40].AwayTeam"
   ]
  },
  {
   "cell_type": "code",
   "execution_count": 48,
   "metadata": {
    "collapsed": false
   },
   "outputs": [],
   "source": [
    "feat_table = res_16.sort_index(ascending=False)\n",
    "feat_table = feat_table[['HomeTeam','AwayTeam','FTR','FTHG','FTAG','HS','AS','HC','AC']]"
   ]
  },
  {
   "cell_type": "code",
   "execution_count": 49,
   "metadata": {
    "collapsed": false
   },
   "outputs": [],
   "source": [
    "# Adding next week fixtures\n",
    "new_fixtures = pd.DataFrame( [['Leicester','Liverpool','D',0,0,0,0,0,0],\n",
    "                             ['Man City','Man United','D',0,0,0,0,0,0],\n",
    "                             ['Tottenham','Stoke','D',0,0,0,0,0,0],\n",
    "                             ['Watford','West Ham','D',0,0,0,0,0,0],\n",
    "                             ['Chelsea','Swansea','D',0,0,0,0,0,0],\n",
    "                             ['West Brom','Bournemouth','D',0,0,0,0,0,0],\n",
    "                             ['Southampton','Arsenal','D',0,0,0,0,0,0],\n",
    "                             ['Everton','Sunderland','D',0,0,0,0,0,0],\n",
    "                             ['Hull','Burnley','D',0,0,0,0,0,0],\n",
    "                             ['Crystal Palace','Middlesbrough','D',0,0,0,0,0,0]],columns=feat_table.columns)"
   ]
  },
  {
   "cell_type": "code",
   "execution_count": 51,
   "metadata": {
    "collapsed": false
   },
   "outputs": [
    {
     "data": {
      "text/plain": [
       "(260, 9)"
      ]
     },
     "execution_count": 51,
     "metadata": {},
     "output_type": "execute_result"
    }
   ],
   "source": [
    "new_feat_table = new_fixtures.append(feat_table,ignore_index=True)\n",
    "new_feat_table = new_feat_table.sort_index(ascending=False)\n",
    "new_feat_table = new_feat_table.reset_index().drop(['index'], axis=1)\n",
    "new_feat_table = new_feat_table.sort_index(ascending=False)\n",
    "# feat_table = n\n",
    "feat_table = new_feat_table\n",
    "feat_table.shape"
   ]
  },
  {
   "cell_type": "code",
   "execution_count": 52,
   "metadata": {
    "collapsed": true
   },
   "outputs": [],
   "source": [
    "#Adding k recent performance measures\n",
    "feat_table[\"pastHS\"] = 0.0\n",
    "feat_table[\"pastHC\"] = 0.0\n",
    "feat_table[\"pastAS\"] = 0.0\n",
    "feat_table[\"pastAC\"] = 0.0\n",
    "feat_table[\"pastHG\"] = 0.0\n",
    "feat_table[\"pastAG\"] = 0.0"
   ]
  },
  {
   "cell_type": "code",
   "execution_count": 53,
   "metadata": {
    "collapsed": false
   },
   "outputs": [
    {
     "data": {
      "text/html": [
       "<div>\n",
       "<table border=\"1\" class=\"dataframe\">\n",
       "  <thead>\n",
       "    <tr style=\"text-align: right;\">\n",
       "      <th></th>\n",
       "      <th>HomeTeam</th>\n",
       "      <th>AwayTeam</th>\n",
       "      <th>FTR</th>\n",
       "      <th>FTHG</th>\n",
       "      <th>FTAG</th>\n",
       "      <th>HS</th>\n",
       "      <th>AS</th>\n",
       "      <th>HC</th>\n",
       "      <th>AC</th>\n",
       "      <th>pastHS</th>\n",
       "      <th>pastHC</th>\n",
       "      <th>pastAS</th>\n",
       "      <th>pastAC</th>\n",
       "      <th>pastHG</th>\n",
       "      <th>pastAG</th>\n",
       "    </tr>\n",
       "  </thead>\n",
       "  <tbody>\n",
       "    <tr>\n",
       "      <th>259</th>\n",
       "      <td>Leicester</td>\n",
       "      <td>Liverpool</td>\n",
       "      <td>D</td>\n",
       "      <td>0</td>\n",
       "      <td>0</td>\n",
       "      <td>0</td>\n",
       "      <td>0</td>\n",
       "      <td>0</td>\n",
       "      <td>0</td>\n",
       "      <td>0.0</td>\n",
       "      <td>0.0</td>\n",
       "      <td>0.0</td>\n",
       "      <td>0.0</td>\n",
       "      <td>0.0</td>\n",
       "      <td>0.0</td>\n",
       "    </tr>\n",
       "    <tr>\n",
       "      <th>258</th>\n",
       "      <td>Man City</td>\n",
       "      <td>Man United</td>\n",
       "      <td>D</td>\n",
       "      <td>0</td>\n",
       "      <td>0</td>\n",
       "      <td>0</td>\n",
       "      <td>0</td>\n",
       "      <td>0</td>\n",
       "      <td>0</td>\n",
       "      <td>0.0</td>\n",
       "      <td>0.0</td>\n",
       "      <td>0.0</td>\n",
       "      <td>0.0</td>\n",
       "      <td>0.0</td>\n",
       "      <td>0.0</td>\n",
       "    </tr>\n",
       "    <tr>\n",
       "      <th>257</th>\n",
       "      <td>Tottenham</td>\n",
       "      <td>Stoke</td>\n",
       "      <td>D</td>\n",
       "      <td>0</td>\n",
       "      <td>0</td>\n",
       "      <td>0</td>\n",
       "      <td>0</td>\n",
       "      <td>0</td>\n",
       "      <td>0</td>\n",
       "      <td>0.0</td>\n",
       "      <td>0.0</td>\n",
       "      <td>0.0</td>\n",
       "      <td>0.0</td>\n",
       "      <td>0.0</td>\n",
       "      <td>0.0</td>\n",
       "    </tr>\n",
       "    <tr>\n",
       "      <th>256</th>\n",
       "      <td>Watford</td>\n",
       "      <td>West Ham</td>\n",
       "      <td>D</td>\n",
       "      <td>0</td>\n",
       "      <td>0</td>\n",
       "      <td>0</td>\n",
       "      <td>0</td>\n",
       "      <td>0</td>\n",
       "      <td>0</td>\n",
       "      <td>0.0</td>\n",
       "      <td>0.0</td>\n",
       "      <td>0.0</td>\n",
       "      <td>0.0</td>\n",
       "      <td>0.0</td>\n",
       "      <td>0.0</td>\n",
       "    </tr>\n",
       "    <tr>\n",
       "      <th>255</th>\n",
       "      <td>Chelsea</td>\n",
       "      <td>Swansea</td>\n",
       "      <td>D</td>\n",
       "      <td>0</td>\n",
       "      <td>0</td>\n",
       "      <td>0</td>\n",
       "      <td>0</td>\n",
       "      <td>0</td>\n",
       "      <td>0</td>\n",
       "      <td>0.0</td>\n",
       "      <td>0.0</td>\n",
       "      <td>0.0</td>\n",
       "      <td>0.0</td>\n",
       "      <td>0.0</td>\n",
       "      <td>0.0</td>\n",
       "    </tr>\n",
       "  </tbody>\n",
       "</table>\n",
       "</div>"
      ],
      "text/plain": [
       "      HomeTeam    AwayTeam FTR  FTHG  FTAG  HS  AS  HC  AC  pastHS  pastHC  \\\n",
       "259  Leicester   Liverpool   D     0     0   0   0   0   0     0.0     0.0   \n",
       "258   Man City  Man United   D     0     0   0   0   0   0     0.0     0.0   \n",
       "257  Tottenham       Stoke   D     0     0   0   0   0   0     0.0     0.0   \n",
       "256    Watford    West Ham   D     0     0   0   0   0   0     0.0     0.0   \n",
       "255    Chelsea     Swansea   D     0     0   0   0   0   0     0.0     0.0   \n",
       "\n",
       "     pastAS  pastAC  pastHG  pastAG  \n",
       "259     0.0     0.0     0.0     0.0  \n",
       "258     0.0     0.0     0.0     0.0  \n",
       "257     0.0     0.0     0.0     0.0  \n",
       "256     0.0     0.0     0.0     0.0  \n",
       "255     0.0     0.0     0.0     0.0  "
      ]
     },
     "execution_count": 53,
     "metadata": {},
     "output_type": "execute_result"
    }
   ],
   "source": [
    "feat_table.head()"
   ]
  },
  {
   "cell_type": "code",
   "execution_count": 54,
   "metadata": {
    "collapsed": false
   },
   "outputs": [],
   "source": [
    "# for index,row in feat_table.iterrows():\n",
    "#     #print row['HomeTeam'], table_16[table_16['Team'] == row['HomeTeam']]['HAS'].values"
   ]
  },
  {
   "cell_type": "code",
   "execution_count": 55,
   "metadata": {
    "collapsed": false,
    "scrolled": true
   },
   "outputs": [
    {
     "name": "stderr",
     "output_type": "stream",
     "text": [
      "/home/sibi/acad/prog_tools/anaconda2/lib/python2.7/site-packages/ipykernel/__main__.py:7: UserWarning: Boolean Series key will be reindexed to match DataFrame index.\n",
      "/home/sibi/acad/prog_tools/anaconda2/lib/python2.7/site-packages/ipykernel/__main__.py:8: UserWarning: Boolean Series key will be reindexed to match DataFrame index.\n"
     ]
    }
   ],
   "source": [
    "# Adding k recent performance metrics. Change value of k.\n",
    "k = 3\n",
    "for i in range(feat_table.shape[0]-1,-1,-1):\n",
    "    row = feat_table.loc[i]\n",
    "    ht = row.HomeTeam\n",
    "    at = row.AwayTeam\n",
    "    ht_stats = feat_table.loc[i-1:-1][(feat_table.HomeTeam == ht) | (feat_table.AwayTeam == ht)].head(k)\n",
    "    at_stats = feat_table.loc[i-1:-1][(feat_table.HomeTeam == at) | (feat_table.AwayTeam == at)].head(k)\n",
    "\n",
    "    feat_table.set_value(i, 'pastHC', (ht_stats[ht_stats[\"AwayTeam\"] == ht].sum().HC + ht_stats[ht_stats[\"HomeTeam\"] == ht].sum().HC)/k)\n",
    "    feat_table.set_value(i, 'pastAC', (at_stats[at_stats[\"AwayTeam\"] == at].sum().HC + at_stats[at_stats[\"HomeTeam\"] == at].sum().HC)/k)\n",
    "    feat_table.set_value(i, 'pastHS', (ht_stats[ht_stats[\"AwayTeam\"] == ht].sum().HS + ht_stats[ht_stats[\"HomeTeam\"] == ht].sum().AS)/k)\n",
    "    feat_table.set_value(i, 'pastAS', (at_stats[at_stats[\"AwayTeam\"] == at].sum().HS + at_stats[at_stats[\"HomeTeam\"] == at].sum().AS)/k)\n",
    "    feat_table.set_value(i, 'pastHG', (ht_stats[ht_stats[\"AwayTeam\"] == ht].sum().FTAG + ht_stats[ht_stats[\"HomeTeam\"] == ht].sum().FTHG)/k)\n",
    "    feat_table.set_value(i, 'pastAG', (at_stats[at_stats[\"AwayTeam\"] == at].sum().FTAG + at_stats[at_stats[\"HomeTeam\"] == at].sum().FTHG)/k)\n",
    "\n",
    "f_HAS = []\n",
    "f_HDS = []\n",
    "f_AAS = []\n",
    "f_ADS = []\n",
    "for index,row in feat_table.iterrows():\n",
    "    f_HAS.append(table_16[table_16['Team'] == row['HomeTeam']]['HAS'].values[0])\n",
    "    f_HDS.append(table_16[table_16['Team'] == row['HomeTeam']]['HDS'].values[0])\n",
    "    f_AAS.append(table_16[table_16['Team'] == row['HomeTeam']]['AAS'].values[0])\n",
    "    f_ADS.append(table_16[table_16['Team'] == row['HomeTeam']]['ADS'].values[0])\n",
    "    \n",
    "feat_table['HAS'] = f_HAS\n",
    "feat_table['HDS'] = f_HDS\n",
    "feat_table['AAS'] = f_AAS\n",
    "feat_table['ADS'] = f_ADS"
   ]
  },
  {
   "cell_type": "code",
   "execution_count": 56,
   "metadata": {
    "collapsed": false
   },
   "outputs": [],
   "source": [
    "test_table = feat_table.drop(['FTHG','FTAG','HS','AS','HC','AC'],axis=1)"
   ]
  },
  {
   "cell_type": "code",
   "execution_count": 57,
   "metadata": {
    "collapsed": false
   },
   "outputs": [],
   "source": [
    "test_table[\"Result\"] = test_table.apply(lambda row: transformResult(row),axis=1)\n",
    "test_table.sort_index(inplace=True)"
   ]
  },
  {
   "cell_type": "code",
   "execution_count": 128,
   "metadata": {
    "collapsed": false
   },
   "outputs": [
    {
     "name": "stdout",
     "output_type": "stream",
     "text": [
      "(260, 19)\n"
     ]
    },
    {
     "data": {
      "text/plain": [
       "250"
      ]
     },
     "execution_count": 128,
     "metadata": {},
     "output_type": "execute_result"
    }
   ],
   "source": [
    "# num_games decides the train-test split\n",
    "print feat_table.shape\n",
    "num_games = feat_table.shape[0]-10\n",
    "num_games"
   ]
  },
  {
   "cell_type": "code",
   "execution_count": 124,
   "metadata": {
    "collapsed": false
   },
   "outputs": [],
   "source": [
    "X_train = test_table[['pastHS','pastHC','pastAS','pastAC','pastHG','pastAG','HAS','HDS','AAS','ADS']].loc[0:num_games]\n",
    "y_train = test_table['Result'].loc[0:num_games]\n",
    "X_test = test_table[['pastHS','pastHC','pastAS','pastAC','pastHG','pastAG','HAS','HDS','AAS','ADS']].loc[num_games:]\n",
    "y_test = test_table['Result'].loc[num_games:]"
   ]
  },
  {
   "cell_type": "code",
   "execution_count": 125,
   "metadata": {
    "collapsed": true
   },
   "outputs": [],
   "source": [
    "### Try predictions here too."
   ]
  },
  {
   "cell_type": "markdown",
   "metadata": {
    "collapsed": true
   },
   "source": [
    "# Adding home advantage"
   ]
  },
  {
   "cell_type": "code",
   "execution_count": 126,
   "metadata": {
    "collapsed": false
   },
   "outputs": [],
   "source": [
    "test_table[\"pastCornerDiff\"] = (test_table[\"pastHC\"] - test_table[\"pastAC\"])/k\n",
    "test_table[\"pastGoalDiff\"] = (test_table[\"pastHG\"] - test_table[\"pastAG\"])/k\n",
    "test_table[\"pastShotsDiff\"] = (test_table[\"pastHS\"] - test_table[\"pastAG\"])/k"
   ]
  },
  {
   "cell_type": "code",
   "execution_count": 131,
   "metadata": {
    "collapsed": false
   },
   "outputs": [
    {
     "name": "stdout",
     "output_type": "stream",
     "text": [
      "250\n"
     ]
    }
   ],
   "source": [
    "''' number of games to exclude in the training set for validation\n",
    "For example, if 240 games have been played, test_table has 250 fixtures - the last 10 being the ones that haven't\n",
    "been played. So, we set aside 20 fixtures from the training set containing 240 fixtures for validation.''' \n",
    "num_games = feat_table.shape[0]-10\n",
    "print num_games\n",
    "v_split = 20\n",
    "n_games = num_games - v_split"
   ]
  },
  {
   "cell_type": "code",
   "execution_count": 133,
   "metadata": {
    "collapsed": false
   },
   "outputs": [],
   "source": [
    "test_table.drop(['pastHC','pastAS','pastAC','pastHG','pastAG'],axis=1)\n",
    "X_train = test_table[['pastCornerDiff','pastGoalDiff','pastShotsDiff','HAS','HDS','AAS','ADS']].loc[0:n_games]\n",
    "y_train = test_table['Result'].loc[0:n_games]\n",
    "X_test = test_table[['pastCornerDiff','pastGoalDiff','pastShotsDiff','HAS','HDS','AAS','ADS']].loc[n_games:num_games-1]\n",
    "y_test = test_table['Result'].loc[n_games:num_games-1]\n",
    "X_predict = test_table[['pastCornerDiff','pastGoalDiff','pastShotsDiff','HAS','HDS','AAS','ADS']].loc[num_games:]"
   ]
  },
  {
   "cell_type": "code",
   "execution_count": 134,
   "metadata": {
    "collapsed": false
   },
   "outputs": [],
   "source": [
    "# clf1.fit(X_train,y_train)\n",
    "# #clf2.fit(X_train,y_train)\n",
    "# clf3.fit(X_train,y_train)\n",
    "# clf4.fit(X_train,y_train)\n",
    "# clf5.fit(X_train,y_train)\n",
    "# clf6.fit(X_train,y_train)"
   ]
  },
  {
   "cell_type": "code",
   "execution_count": 212,
   "metadata": {
    "collapsed": false
   },
   "outputs": [],
   "source": [
    "#KNN\n",
    "plot_scores_knn = []\n",
    "for b in xrange(1,50):\n",
    "    clf_knn = KNeighborsClassifier(n_neighbors=b)\n",
    "    clf_knn.fit(X_train,y_train)\n",
    "    scores = accuracy_score(y_test,clf_knn.predict(X_test))\n",
    "    plot_scores_knn.append(scores)\n",
    "\n",
    "#XGBClassifier\n",
    "plot_scores_XGB = []\n",
    "for i in xrange(1,100):\n",
    "    clf_XGB = XGBClassifier(n_estimators=i,max_depth=100)\n",
    "    clf_XGB.fit(X_train, y_train)\n",
    "    scores = accuracy_score(y_test,clf_XGB.predict(X_test))\n",
    "    plot_scores_XGB.append(scores)\n",
    "    \n",
    "#Logistic Regression\n",
    "plot_scores_logreg= []\n",
    "cs = [0.01,0.02,0.1,0.5,1,3,4,5,10]\n",
    "for c in cs:\n",
    "    clf_logreg = LogisticRegression(C=c,solver='lbfgs',multi_class='ovr')\n",
    "    clf_logreg.fit(X_train, y_train)\n",
    "    scores = accuracy_score(y_test,clf_logreg.predict(X_test))\n",
    "    plot_scores_logreg.append(scores)\n"
   ]
  },
  {
   "cell_type": "code",
   "execution_count": 214,
   "metadata": {
    "collapsed": false
   },
   "outputs": [
    {
     "data": {
      "image/png": "[encoded data removed]",
      "text/plain": [
       "<matplotlib.figure.Figure at 0x7fa530a1d150>"
      ]
     },
     "metadata": {},
     "output_type": "display_data"
    }
   ],
   "source": [
    "fig = plt.figure(figsize = (16,7))\n",
    "# plt.style.use('ggplot')\n",
    "\n",
    "ax1 = fig.add_subplot(1,3,1)\n",
    "ax1.plot(xrange(1,50),plot_scores_knn);\n",
    "ax1.set_title(\"KNN - Accuracy vs N\")\n",
    "ax1.set_xticks(xrange(1,50,5));\n",
    "\n",
    "ax2 = fig.add_subplot(1,3,2)\n",
    "ax2.plot(xrange(1,100),plot_scores_XGB);\n",
    "ax2.set_xticks(xrange(1,100,6));\n",
    "ax2.set_title(\"XGB - Accuracy vs n_estimators\")\n",
    "\n",
    "ax3 = fig.add_subplot(1,3,3)\n",
    "ax3.plot(xrange(1,10),plot_scores_logreg);\n",
    "ax3.set_xticks(xrange(1,10));\n",
    "ax3.set_title(\"Logistic Regression - Accuracy vs C\")\n",
    "\n",
    "fig.tight_layout()"
   ]
  },
  {
   "cell_type": "code",
   "execution_count": 216,
   "metadata": {
    "collapsed": false
   },
   "outputs": [
    {
     "name": "stdout",
     "output_type": "stream",
     "text": [
      "0.65 12\n",
      "0.5 31\n",
      "0.65 3\n"
     ]
    }
   ],
   "source": [
    "max_knn_n = max(plot_scores_knn)\n",
    "max_knn_ind = plot_scores_knn.index(max_knn_n)\n",
    "\n",
    "max_XGB_e = max(plot_scores_XGB)\n",
    "max_XGB_ind = plot_scores_XGB.index(max_XGB_e)\n",
    "\n",
    "max_logreg_c = max(plot_scores_logreg)\n",
    "max_logreg_ind = plot_scores_logreg.index(max_logreg_c)\n",
    "\n",
    "print max_knn_n, max_knn_ind\n",
    "print max_XGB_e, max_XGB_ind\n",
    "print max_logreg_c, max_logreg_ind"
   ]
  },
  {
   "cell_type": "code",
   "execution_count": 222,
   "metadata": {
    "collapsed": false
   },
   "outputs": [],
   "source": [
    "clf_knn = KNeighborsClassifier(n_neighbors=12).fit(X_train,y_train)\n",
    "clf_XGB = XGBClassifier(n_estimators=31).fit(X_train,y_train)\n",
    "clf_logreg = LogisticRegression(C=3,solver='lbfgs',multi_class='ovr').fit(X_train,y_train)"
   ]
  },
  {
   "cell_type": "code",
   "execution_count": 223,
   "metadata": {
    "collapsed": false
   },
   "outputs": [],
   "source": [
    "y_pred_knn = clf_knn.predict(X_predict)\n",
    "y_pred_XGB = clf_XGB.predict(X_predict)\n",
    "y_pred_logreg = clf_logreg.predict(X_predict)"
   ]
  },
  {
   "cell_type": "code",
   "execution_count": 224,
   "metadata": {
    "collapsed": false
   },
   "outputs": [],
   "source": [
    "this_week = test_table[['HomeTeam','AwayTeam']].loc[num_games:]\n",
    "this_week['Result_knn']=y_pred_knn\n",
    "this_week['Result_XGB']=y_pred_XGB\n",
    "this_week['Result_logreg']=y_pred_logreg"
   ]
  },
  {
   "cell_type": "code",
   "execution_count": 225,
   "metadata": {
    "collapsed": false
   },
   "outputs": [
    {
     "data": {
      "text/html": [
       "<div>\n",
       "<table border=\"1\" class=\"dataframe\">\n",
       "  <thead>\n",
       "    <tr style=\"text-align: right;\">\n",
       "      <th></th>\n",
       "      <th>HomeTeam</th>\n",
       "      <th>AwayTeam</th>\n",
       "      <th>Result_knn</th>\n",
       "      <th>Result_XGB</th>\n",
       "      <th>Result_logreg</th>\n",
       "    </tr>\n",
       "  </thead>\n",
       "  <tbody>\n",
       "    <tr>\n",
       "      <th>250</th>\n",
       "      <td>Crystal Palace</td>\n",
       "      <td>Middlesbrough</td>\n",
       "      <td>1</td>\n",
       "      <td>-1</td>\n",
       "      <td>-1</td>\n",
       "    </tr>\n",
       "    <tr>\n",
       "      <th>251</th>\n",
       "      <td>Hull</td>\n",
       "      <td>Burnley</td>\n",
       "      <td>-1</td>\n",
       "      <td>-1</td>\n",
       "      <td>-1</td>\n",
       "    </tr>\n",
       "    <tr>\n",
       "      <th>252</th>\n",
       "      <td>Everton</td>\n",
       "      <td>Sunderland</td>\n",
       "      <td>0</td>\n",
       "      <td>1</td>\n",
       "      <td>1</td>\n",
       "    </tr>\n",
       "    <tr>\n",
       "      <th>253</th>\n",
       "      <td>Southampton</td>\n",
       "      <td>Arsenal</td>\n",
       "      <td>-1</td>\n",
       "      <td>1</td>\n",
       "      <td>-1</td>\n",
       "    </tr>\n",
       "    <tr>\n",
       "      <th>254</th>\n",
       "      <td>West Brom</td>\n",
       "      <td>Bournemouth</td>\n",
       "      <td>1</td>\n",
       "      <td>1</td>\n",
       "      <td>1</td>\n",
       "    </tr>\n",
       "    <tr>\n",
       "      <th>255</th>\n",
       "      <td>Chelsea</td>\n",
       "      <td>Swansea</td>\n",
       "      <td>1</td>\n",
       "      <td>1</td>\n",
       "      <td>1</td>\n",
       "    </tr>\n",
       "    <tr>\n",
       "      <th>256</th>\n",
       "      <td>Watford</td>\n",
       "      <td>West Ham</td>\n",
       "      <td>-1</td>\n",
       "      <td>1</td>\n",
       "      <td>1</td>\n",
       "    </tr>\n",
       "    <tr>\n",
       "      <th>257</th>\n",
       "      <td>Tottenham</td>\n",
       "      <td>Stoke</td>\n",
       "      <td>1</td>\n",
       "      <td>1</td>\n",
       "      <td>1</td>\n",
       "    </tr>\n",
       "    <tr>\n",
       "      <th>258</th>\n",
       "      <td>Man City</td>\n",
       "      <td>Man United</td>\n",
       "      <td>1</td>\n",
       "      <td>1</td>\n",
       "      <td>1</td>\n",
       "    </tr>\n",
       "    <tr>\n",
       "      <th>259</th>\n",
       "      <td>Leicester</td>\n",
       "      <td>Liverpool</td>\n",
       "      <td>1</td>\n",
       "      <td>1</td>\n",
       "      <td>1</td>\n",
       "    </tr>\n",
       "  </tbody>\n",
       "</table>\n",
       "</div>"
      ],
      "text/plain": [
       "           HomeTeam       AwayTeam  Result_knn  Result_XGB  Result_logreg\n",
       "250  Crystal Palace  Middlesbrough           1          -1             -1\n",
       "251            Hull        Burnley          -1          -1             -1\n",
       "252         Everton     Sunderland           0           1              1\n",
       "253     Southampton        Arsenal          -1           1             -1\n",
       "254       West Brom    Bournemouth           1           1              1\n",
       "255         Chelsea        Swansea           1           1              1\n",
       "256         Watford       West Ham          -1           1              1\n",
       "257       Tottenham          Stoke           1           1              1\n",
       "258        Man City     Man United           1           1              1\n",
       "259       Leicester      Liverpool           1           1              1"
      ]
     },
     "execution_count": 225,
     "metadata": {},
     "output_type": "execute_result"
    }
   ],
   "source": [
    "this_week"
   ]
  },
  {
   "cell_type": "code",
   "execution_count": 226,
   "metadata": {
    "collapsed": true
   },
   "outputs": [],
   "source": [
    "def transformResultBack(row,col_name):\n",
    "    if(row[col_name] == 1):\n",
    "        return 'H'\n",
    "    elif(row[col_name] == -1):\n",
    "        return 'A'\n",
    "    else:\n",
    "        return 'D'"
   ]
  },
  {
   "cell_type": "code",
   "execution_count": 227,
   "metadata": {
    "collapsed": false
   },
   "outputs": [],
   "source": [
    "this_week[\"Res_knn\"] = this_week.apply(lambda row: transformResultBack(row,\"Result_knn\"),axis=1)\n",
    "this_week[\"Res_XGB\"] = this_week.apply(lambda row: transformResultBack(row,\"Result_XGB\"),axis=1)\n",
    "this_week[\"Res_logreg\"] = this_week.apply(lambda row: transformResultBack(row,\"Result_logreg\"),axis=1)\n",
    "\n",
    "this_week.drop([\"Result_knn\", \"Result_XGB\",\"Result_logreg\"],axis=1,inplace=True)"
   ]
  },
  {
   "cell_type": "code",
   "execution_count": 231,
   "metadata": {
    "collapsed": false
   },
   "outputs": [
    {
     "name": "stdout",
     "output_type": "stream",
     "text": [
      "0.65 0.5 0.65\n"
     ]
    },
    {
     "data": {
      "text/html": [
       "<div>\n",
       "<table border=\"1\" class=\"dataframe\">\n",
       "  <thead>\n",
       "    <tr style=\"text-align: right;\">\n",
       "      <th></th>\n",
       "      <th>HomeTeam</th>\n",
       "      <th>AwayTeam</th>\n",
       "      <th>Res_knn</th>\n",
       "      <th>Res_XGB</th>\n",
       "      <th>Res_logreg</th>\n",
       "    </tr>\n",
       "  </thead>\n",
       "  <tbody>\n",
       "    <tr>\n",
       "      <th>250</th>\n",
       "      <td>Crystal Palace</td>\n",
       "      <td>Middlesbrough</td>\n",
       "      <td>H</td>\n",
       "      <td>A</td>\n",
       "      <td>A</td>\n",
       "    </tr>\n",
       "    <tr>\n",
       "      <th>251</th>\n",
       "      <td>Hull</td>\n",
       "      <td>Burnley</td>\n",
       "      <td>A</td>\n",
       "      <td>A</td>\n",
       "      <td>A</td>\n",
       "    </tr>\n",
       "    <tr>\n",
       "      <th>252</th>\n",
       "      <td>Everton</td>\n",
       "      <td>Sunderland</td>\n",
       "      <td>D</td>\n",
       "      <td>H</td>\n",
       "      <td>H</td>\n",
       "    </tr>\n",
       "    <tr>\n",
       "      <th>253</th>\n",
       "      <td>Southampton</td>\n",
       "      <td>Arsenal</td>\n",
       "      <td>A</td>\n",
       "      <td>H</td>\n",
       "      <td>A</td>\n",
       "    </tr>\n",
       "    <tr>\n",
       "      <th>254</th>\n",
       "      <td>West Brom</td>\n",
       "      <td>Bournemouth</td>\n",
       "      <td>H</td>\n",
       "      <td>H</td>\n",
       "      <td>H</td>\n",
       "    </tr>\n",
       "    <tr>\n",
       "      <th>255</th>\n",
       "      <td>Chelsea</td>\n",
       "      <td>Swansea</td>\n",
       "      <td>H</td>\n",
       "      <td>H</td>\n",
       "      <td>H</td>\n",
       "    </tr>\n",
       "    <tr>\n",
       "      <th>256</th>\n",
       "      <td>Watford</td>\n",
       "      <td>West Ham</td>\n",
       "      <td>A</td>\n",
       "      <td>H</td>\n",
       "      <td>H</td>\n",
       "    </tr>\n",
       "    <tr>\n",
       "      <th>257</th>\n",
       "      <td>Tottenham</td>\n",
       "      <td>Stoke</td>\n",
       "      <td>H</td>\n",
       "      <td>H</td>\n",
       "      <td>H</td>\n",
       "    </tr>\n",
       "    <tr>\n",
       "      <th>258</th>\n",
       "      <td>Man City</td>\n",
       "      <td>Man United</td>\n",
       "      <td>H</td>\n",
       "      <td>H</td>\n",
       "      <td>H</td>\n",
       "    </tr>\n",
       "    <tr>\n",
       "      <th>259</th>\n",
       "      <td>Leicester</td>\n",
       "      <td>Liverpool</td>\n",
       "      <td>H</td>\n",
       "      <td>H</td>\n",
       "      <td>H</td>\n",
       "    </tr>\n",
       "  </tbody>\n",
       "</table>\n",
       "</div>"
      ],
      "text/plain": [
       "           HomeTeam       AwayTeam Res_knn Res_XGB Res_logreg\n",
       "250  Crystal Palace  Middlesbrough       H       A          A\n",
       "251            Hull        Burnley       A       A          A\n",
       "252         Everton     Sunderland       D       H          H\n",
       "253     Southampton        Arsenal       A       H          A\n",
       "254       West Brom    Bournemouth       H       H          H\n",
       "255         Chelsea        Swansea       H       H          H\n",
       "256         Watford       West Ham       A       H          H\n",
       "257       Tottenham          Stoke       H       H          H\n",
       "258        Man City     Man United       H       H          H\n",
       "259       Leicester      Liverpool       H       H          H"
      ]
     },
     "execution_count": 231,
     "metadata": {},
     "output_type": "execute_result"
    }
   ],
   "source": [
    "print max_knn_n, max_XGB_e, max_logreg_c\n",
    "this_week\n"
   ]
  },
  {
   "cell_type": "markdown",
   "metadata": {},
   "source": [
    "Interesting. Leicester."
   ]
  },
  {
   "cell_type": "code",
   "execution_count": null,
   "metadata": {
    "collapsed": true
   },
   "outputs": [],
   "source": []
  }
 ],
 "metadata": {
  "kernelspec": {
   "display_name": "Python [Root]",
   "language": "python",
   "name": "Python [Root]"
  },
  "language_info": {
   "codemirror_mode": {
    "name": "ipython",
    "version": 2
   },
   "file_extension": ".py",
   "mimetype": "text/x-python",
   "name": "python",
   "nbconvert_exporter": "python",
   "pygments_lexer": "ipython2",
   "version": "2.7.12"
  }
 },
 "nbformat": 4,
 "nbformat_minor": 0
}
